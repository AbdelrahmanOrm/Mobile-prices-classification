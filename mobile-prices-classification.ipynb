{
 "cells": [
  {
   "cell_type": "code",
   "execution_count": 1,
   "id": "21f03f06",
   "metadata": {
    "_cell_guid": "b1076dfc-b9ad-4769-8c92-a6c4dae69d19",
    "_uuid": "8f2839f25d086af736a60e9eeb907d3b93b6e0e5",
    "execution": {
     "iopub.execute_input": "2024-04-19T07:17:47.030082Z",
     "iopub.status.busy": "2024-04-19T07:17:47.029068Z",
     "iopub.status.idle": "2024-04-19T07:17:48.026767Z",
     "shell.execute_reply": "2024-04-19T07:17:48.025324Z"
    },
    "papermill": {
     "duration": 1.016718,
     "end_time": "2024-04-19T07:17:48.029902",
     "exception": false,
     "start_time": "2024-04-19T07:17:47.013184",
     "status": "completed"
    },
    "tags": []
   },
   "outputs": [],
   "source": [
    "import numpy as np # linear algebra\n",
    "import pandas as pd # data processing, CSV file I/O (e.g. pd.read_csv)"
   ]
  },
  {
   "cell_type": "markdown",
   "id": "1aa7d901",
   "metadata": {
    "papermill": {
     "duration": 0.01293,
     "end_time": "2024-04-19T07:17:48.056893",
     "exception": false,
     "start_time": "2024-04-19T07:17:48.043963",
     "status": "completed"
    },
    "tags": []
   },
   "source": [
    "# Data"
   ]
  },
  {
   "cell_type": "code",
   "execution_count": 2,
   "id": "b7b7a6de",
   "metadata": {
    "execution": {
     "iopub.execute_input": "2024-04-19T07:17:48.085751Z",
     "iopub.status.busy": "2024-04-19T07:17:48.085179Z",
     "iopub.status.idle": "2024-04-19T07:17:48.127099Z",
     "shell.execute_reply": "2024-04-19T07:17:48.125728Z"
    },
    "papermill": {
     "duration": 0.059483,
     "end_time": "2024-04-19T07:17:48.129803",
     "exception": false,
     "start_time": "2024-04-19T07:17:48.070320",
     "status": "completed"
    },
    "tags": []
   },
   "outputs": [
    {
     "data": {
      "text/plain": [
       "(2000, 21)"
      ]
     },
     "execution_count": 2,
     "metadata": {},
     "output_type": "execute_result"
    }
   ],
   "source": [
    "#Train data\n",
    "data_train = pd.read_csv('/kaggle/input/mobile-prices-dataset/train.csv')\n",
    "df = data_train.copy()\n",
    "df.shape"
   ]
  },
  {
   "cell_type": "code",
   "execution_count": 3,
   "id": "c3c164ed",
   "metadata": {
    "execution": {
     "iopub.execute_input": "2024-04-19T07:17:48.160665Z",
     "iopub.status.busy": "2024-04-19T07:17:48.159952Z",
     "iopub.status.idle": "2024-04-19T07:17:48.181887Z",
     "shell.execute_reply": "2024-04-19T07:17:48.180571Z"
    },
    "papermill": {
     "duration": 0.041043,
     "end_time": "2024-04-19T07:17:48.184774",
     "exception": false,
     "start_time": "2024-04-19T07:17:48.143731",
     "status": "completed"
    },
    "tags": []
   },
   "outputs": [
    {
     "data": {
      "text/plain": [
       "(1000, 21)"
      ]
     },
     "execution_count": 3,
     "metadata": {},
     "output_type": "execute_result"
    }
   ],
   "source": [
    "#Test data\n",
    "data_test = pd.read_csv('/kaggle/input/mobile-prices-dataset/test.csv')\n",
    "df_test = data_test.copy()\n",
    "df_test.shape"
   ]
  },
  {
   "cell_type": "code",
   "execution_count": 4,
   "id": "570ed682",
   "metadata": {
    "execution": {
     "iopub.execute_input": "2024-04-19T07:17:48.215163Z",
     "iopub.status.busy": "2024-04-19T07:17:48.214684Z",
     "iopub.status.idle": "2024-04-19T07:17:48.250584Z",
     "shell.execute_reply": "2024-04-19T07:17:48.249534Z"
    },
    "papermill": {
     "duration": 0.054596,
     "end_time": "2024-04-19T07:17:48.253378",
     "exception": false,
     "start_time": "2024-04-19T07:17:48.198782",
     "status": "completed"
    },
    "tags": []
   },
   "outputs": [
    {
     "data": {
      "text/html": [
       "<div>\n",
       "<style scoped>\n",
       "    .dataframe tbody tr th:only-of-type {\n",
       "        vertical-align: middle;\n",
       "    }\n",
       "\n",
       "    .dataframe tbody tr th {\n",
       "        vertical-align: top;\n",
       "    }\n",
       "\n",
       "    .dataframe thead th {\n",
       "        text-align: right;\n",
       "    }\n",
       "</style>\n",
       "<table border=\"1\" class=\"dataframe\">\n",
       "  <thead>\n",
       "    <tr style=\"text-align: right;\">\n",
       "      <th></th>\n",
       "      <th>battery_power</th>\n",
       "      <th>blue</th>\n",
       "      <th>clock_speed</th>\n",
       "      <th>dual_sim</th>\n",
       "      <th>fc</th>\n",
       "      <th>four_g</th>\n",
       "      <th>int_memory</th>\n",
       "      <th>m_dep</th>\n",
       "      <th>mobile_wt</th>\n",
       "      <th>n_cores</th>\n",
       "      <th>...</th>\n",
       "      <th>px_height</th>\n",
       "      <th>px_width</th>\n",
       "      <th>ram</th>\n",
       "      <th>sc_h</th>\n",
       "      <th>sc_w</th>\n",
       "      <th>talk_time</th>\n",
       "      <th>three_g</th>\n",
       "      <th>touch_screen</th>\n",
       "      <th>wifi</th>\n",
       "      <th>price_range</th>\n",
       "    </tr>\n",
       "  </thead>\n",
       "  <tbody>\n",
       "    <tr>\n",
       "      <th>0</th>\n",
       "      <td>842</td>\n",
       "      <td>0</td>\n",
       "      <td>2.2</td>\n",
       "      <td>0</td>\n",
       "      <td>1</td>\n",
       "      <td>0</td>\n",
       "      <td>7</td>\n",
       "      <td>0.6</td>\n",
       "      <td>188</td>\n",
       "      <td>2</td>\n",
       "      <td>...</td>\n",
       "      <td>20</td>\n",
       "      <td>756</td>\n",
       "      <td>2549</td>\n",
       "      <td>9</td>\n",
       "      <td>7</td>\n",
       "      <td>19</td>\n",
       "      <td>0</td>\n",
       "      <td>0</td>\n",
       "      <td>1</td>\n",
       "      <td>1</td>\n",
       "    </tr>\n",
       "    <tr>\n",
       "      <th>1</th>\n",
       "      <td>1021</td>\n",
       "      <td>1</td>\n",
       "      <td>0.5</td>\n",
       "      <td>1</td>\n",
       "      <td>0</td>\n",
       "      <td>1</td>\n",
       "      <td>53</td>\n",
       "      <td>0.7</td>\n",
       "      <td>136</td>\n",
       "      <td>3</td>\n",
       "      <td>...</td>\n",
       "      <td>905</td>\n",
       "      <td>1988</td>\n",
       "      <td>2631</td>\n",
       "      <td>17</td>\n",
       "      <td>3</td>\n",
       "      <td>7</td>\n",
       "      <td>1</td>\n",
       "      <td>1</td>\n",
       "      <td>0</td>\n",
       "      <td>2</td>\n",
       "    </tr>\n",
       "    <tr>\n",
       "      <th>2</th>\n",
       "      <td>563</td>\n",
       "      <td>1</td>\n",
       "      <td>0.5</td>\n",
       "      <td>1</td>\n",
       "      <td>2</td>\n",
       "      <td>1</td>\n",
       "      <td>41</td>\n",
       "      <td>0.9</td>\n",
       "      <td>145</td>\n",
       "      <td>5</td>\n",
       "      <td>...</td>\n",
       "      <td>1263</td>\n",
       "      <td>1716</td>\n",
       "      <td>2603</td>\n",
       "      <td>11</td>\n",
       "      <td>2</td>\n",
       "      <td>9</td>\n",
       "      <td>1</td>\n",
       "      <td>1</td>\n",
       "      <td>0</td>\n",
       "      <td>2</td>\n",
       "    </tr>\n",
       "    <tr>\n",
       "      <th>3</th>\n",
       "      <td>615</td>\n",
       "      <td>1</td>\n",
       "      <td>2.5</td>\n",
       "      <td>0</td>\n",
       "      <td>0</td>\n",
       "      <td>0</td>\n",
       "      <td>10</td>\n",
       "      <td>0.8</td>\n",
       "      <td>131</td>\n",
       "      <td>6</td>\n",
       "      <td>...</td>\n",
       "      <td>1216</td>\n",
       "      <td>1786</td>\n",
       "      <td>2769</td>\n",
       "      <td>16</td>\n",
       "      <td>8</td>\n",
       "      <td>11</td>\n",
       "      <td>1</td>\n",
       "      <td>0</td>\n",
       "      <td>0</td>\n",
       "      <td>2</td>\n",
       "    </tr>\n",
       "    <tr>\n",
       "      <th>4</th>\n",
       "      <td>1821</td>\n",
       "      <td>1</td>\n",
       "      <td>1.2</td>\n",
       "      <td>0</td>\n",
       "      <td>13</td>\n",
       "      <td>1</td>\n",
       "      <td>44</td>\n",
       "      <td>0.6</td>\n",
       "      <td>141</td>\n",
       "      <td>2</td>\n",
       "      <td>...</td>\n",
       "      <td>1208</td>\n",
       "      <td>1212</td>\n",
       "      <td>1411</td>\n",
       "      <td>8</td>\n",
       "      <td>2</td>\n",
       "      <td>15</td>\n",
       "      <td>1</td>\n",
       "      <td>1</td>\n",
       "      <td>0</td>\n",
       "      <td>1</td>\n",
       "    </tr>\n",
       "  </tbody>\n",
       "</table>\n",
       "<p>5 rows × 21 columns</p>\n",
       "</div>"
      ],
      "text/plain": [
       "   battery_power  blue  clock_speed  dual_sim  fc  four_g  int_memory  m_dep  \\\n",
       "0            842     0          2.2         0   1       0           7    0.6   \n",
       "1           1021     1          0.5         1   0       1          53    0.7   \n",
       "2            563     1          0.5         1   2       1          41    0.9   \n",
       "3            615     1          2.5         0   0       0          10    0.8   \n",
       "4           1821     1          1.2         0  13       1          44    0.6   \n",
       "\n",
       "   mobile_wt  n_cores  ...  px_height  px_width   ram  sc_h  sc_w  talk_time  \\\n",
       "0        188        2  ...         20       756  2549     9     7         19   \n",
       "1        136        3  ...        905      1988  2631    17     3          7   \n",
       "2        145        5  ...       1263      1716  2603    11     2          9   \n",
       "3        131        6  ...       1216      1786  2769    16     8         11   \n",
       "4        141        2  ...       1208      1212  1411     8     2         15   \n",
       "\n",
       "   three_g  touch_screen  wifi  price_range  \n",
       "0        0             0     1            1  \n",
       "1        1             1     0            2  \n",
       "2        1             1     0            2  \n",
       "3        1             0     0            2  \n",
       "4        1             1     0            1  \n",
       "\n",
       "[5 rows x 21 columns]"
      ]
     },
     "execution_count": 4,
     "metadata": {},
     "output_type": "execute_result"
    }
   ],
   "source": [
    "df.head()"
   ]
  },
  {
   "cell_type": "code",
   "execution_count": 5,
   "id": "740a1400",
   "metadata": {
    "execution": {
     "iopub.execute_input": "2024-04-19T07:17:48.286033Z",
     "iopub.status.busy": "2024-04-19T07:17:48.284821Z",
     "iopub.status.idle": "2024-04-19T07:17:48.307702Z",
     "shell.execute_reply": "2024-04-19T07:17:48.306384Z"
    },
    "papermill": {
     "duration": 0.041924,
     "end_time": "2024-04-19T07:17:48.310507",
     "exception": false,
     "start_time": "2024-04-19T07:17:48.268583",
     "status": "completed"
    },
    "tags": []
   },
   "outputs": [
    {
     "data": {
      "text/html": [
       "<div>\n",
       "<style scoped>\n",
       "    .dataframe tbody tr th:only-of-type {\n",
       "        vertical-align: middle;\n",
       "    }\n",
       "\n",
       "    .dataframe tbody tr th {\n",
       "        vertical-align: top;\n",
       "    }\n",
       "\n",
       "    .dataframe thead th {\n",
       "        text-align: right;\n",
       "    }\n",
       "</style>\n",
       "<table border=\"1\" class=\"dataframe\">\n",
       "  <thead>\n",
       "    <tr style=\"text-align: right;\">\n",
       "      <th></th>\n",
       "      <th>battery_power</th>\n",
       "      <th>blue</th>\n",
       "      <th>clock_speed</th>\n",
       "      <th>dual_sim</th>\n",
       "      <th>fc</th>\n",
       "      <th>four_g</th>\n",
       "      <th>int_memory</th>\n",
       "      <th>m_dep</th>\n",
       "      <th>mobile_wt</th>\n",
       "      <th>n_cores</th>\n",
       "      <th>...</th>\n",
       "      <th>px_height</th>\n",
       "      <th>px_width</th>\n",
       "      <th>ram</th>\n",
       "      <th>sc_h</th>\n",
       "      <th>sc_w</th>\n",
       "      <th>talk_time</th>\n",
       "      <th>three_g</th>\n",
       "      <th>touch_screen</th>\n",
       "      <th>wifi</th>\n",
       "      <th>price_range</th>\n",
       "    </tr>\n",
       "  </thead>\n",
       "  <tbody>\n",
       "    <tr>\n",
       "      <th>1995</th>\n",
       "      <td>794</td>\n",
       "      <td>1</td>\n",
       "      <td>0.5</td>\n",
       "      <td>1</td>\n",
       "      <td>0</td>\n",
       "      <td>1</td>\n",
       "      <td>2</td>\n",
       "      <td>0.8</td>\n",
       "      <td>106</td>\n",
       "      <td>6</td>\n",
       "      <td>...</td>\n",
       "      <td>1222</td>\n",
       "      <td>1890</td>\n",
       "      <td>668</td>\n",
       "      <td>13</td>\n",
       "      <td>4</td>\n",
       "      <td>19</td>\n",
       "      <td>1</td>\n",
       "      <td>1</td>\n",
       "      <td>0</td>\n",
       "      <td>0</td>\n",
       "    </tr>\n",
       "    <tr>\n",
       "      <th>1996</th>\n",
       "      <td>1965</td>\n",
       "      <td>1</td>\n",
       "      <td>2.6</td>\n",
       "      <td>1</td>\n",
       "      <td>0</td>\n",
       "      <td>0</td>\n",
       "      <td>39</td>\n",
       "      <td>0.2</td>\n",
       "      <td>187</td>\n",
       "      <td>4</td>\n",
       "      <td>...</td>\n",
       "      <td>915</td>\n",
       "      <td>1965</td>\n",
       "      <td>2032</td>\n",
       "      <td>11</td>\n",
       "      <td>10</td>\n",
       "      <td>16</td>\n",
       "      <td>1</td>\n",
       "      <td>1</td>\n",
       "      <td>1</td>\n",
       "      <td>2</td>\n",
       "    </tr>\n",
       "    <tr>\n",
       "      <th>1997</th>\n",
       "      <td>1911</td>\n",
       "      <td>0</td>\n",
       "      <td>0.9</td>\n",
       "      <td>1</td>\n",
       "      <td>1</td>\n",
       "      <td>1</td>\n",
       "      <td>36</td>\n",
       "      <td>0.7</td>\n",
       "      <td>108</td>\n",
       "      <td>8</td>\n",
       "      <td>...</td>\n",
       "      <td>868</td>\n",
       "      <td>1632</td>\n",
       "      <td>3057</td>\n",
       "      <td>9</td>\n",
       "      <td>1</td>\n",
       "      <td>5</td>\n",
       "      <td>1</td>\n",
       "      <td>1</td>\n",
       "      <td>0</td>\n",
       "      <td>3</td>\n",
       "    </tr>\n",
       "    <tr>\n",
       "      <th>1998</th>\n",
       "      <td>1512</td>\n",
       "      <td>0</td>\n",
       "      <td>0.9</td>\n",
       "      <td>0</td>\n",
       "      <td>4</td>\n",
       "      <td>1</td>\n",
       "      <td>46</td>\n",
       "      <td>0.1</td>\n",
       "      <td>145</td>\n",
       "      <td>5</td>\n",
       "      <td>...</td>\n",
       "      <td>336</td>\n",
       "      <td>670</td>\n",
       "      <td>869</td>\n",
       "      <td>18</td>\n",
       "      <td>10</td>\n",
       "      <td>19</td>\n",
       "      <td>1</td>\n",
       "      <td>1</td>\n",
       "      <td>1</td>\n",
       "      <td>0</td>\n",
       "    </tr>\n",
       "    <tr>\n",
       "      <th>1999</th>\n",
       "      <td>510</td>\n",
       "      <td>1</td>\n",
       "      <td>2.0</td>\n",
       "      <td>1</td>\n",
       "      <td>5</td>\n",
       "      <td>1</td>\n",
       "      <td>45</td>\n",
       "      <td>0.9</td>\n",
       "      <td>168</td>\n",
       "      <td>6</td>\n",
       "      <td>...</td>\n",
       "      <td>483</td>\n",
       "      <td>754</td>\n",
       "      <td>3919</td>\n",
       "      <td>19</td>\n",
       "      <td>4</td>\n",
       "      <td>2</td>\n",
       "      <td>1</td>\n",
       "      <td>1</td>\n",
       "      <td>1</td>\n",
       "      <td>3</td>\n",
       "    </tr>\n",
       "  </tbody>\n",
       "</table>\n",
       "<p>5 rows × 21 columns</p>\n",
       "</div>"
      ],
      "text/plain": [
       "      battery_power  blue  clock_speed  dual_sim  fc  four_g  int_memory  \\\n",
       "1995            794     1          0.5         1   0       1           2   \n",
       "1996           1965     1          2.6         1   0       0          39   \n",
       "1997           1911     0          0.9         1   1       1          36   \n",
       "1998           1512     0          0.9         0   4       1          46   \n",
       "1999            510     1          2.0         1   5       1          45   \n",
       "\n",
       "      m_dep  mobile_wt  n_cores  ...  px_height  px_width   ram  sc_h  sc_w  \\\n",
       "1995    0.8        106        6  ...       1222      1890   668    13     4   \n",
       "1996    0.2        187        4  ...        915      1965  2032    11    10   \n",
       "1997    0.7        108        8  ...        868      1632  3057     9     1   \n",
       "1998    0.1        145        5  ...        336       670   869    18    10   \n",
       "1999    0.9        168        6  ...        483       754  3919    19     4   \n",
       "\n",
       "      talk_time  three_g  touch_screen  wifi  price_range  \n",
       "1995         19        1             1     0            0  \n",
       "1996         16        1             1     1            2  \n",
       "1997          5        1             1     0            3  \n",
       "1998         19        1             1     1            0  \n",
       "1999          2        1             1     1            3  \n",
       "\n",
       "[5 rows x 21 columns]"
      ]
     },
     "execution_count": 5,
     "metadata": {},
     "output_type": "execute_result"
    }
   ],
   "source": [
    "df.tail()"
   ]
  },
  {
   "cell_type": "code",
   "execution_count": 6,
   "id": "d5dc9a77",
   "metadata": {
    "execution": {
     "iopub.execute_input": "2024-04-19T07:17:48.343260Z",
     "iopub.status.busy": "2024-04-19T07:17:48.342478Z",
     "iopub.status.idle": "2024-04-19T07:17:48.350593Z",
     "shell.execute_reply": "2024-04-19T07:17:48.349278Z"
    },
    "papermill": {
     "duration": 0.028453,
     "end_time": "2024-04-19T07:17:48.353328",
     "exception": false,
     "start_time": "2024-04-19T07:17:48.324875",
     "status": "completed"
    },
    "tags": []
   },
   "outputs": [
    {
     "data": {
      "text/plain": [
       "Index(['battery_power', 'blue', 'clock_speed', 'dual_sim', 'fc', 'four_g',\n",
       "       'int_memory', 'm_dep', 'mobile_wt', 'n_cores', 'pc', 'px_height',\n",
       "       'px_width', 'ram', 'sc_h', 'sc_w', 'talk_time', 'three_g',\n",
       "       'touch_screen', 'wifi', 'price_range'],\n",
       "      dtype='object')"
      ]
     },
     "execution_count": 6,
     "metadata": {},
     "output_type": "execute_result"
    }
   ],
   "source": [
    "df.columns"
   ]
  },
  {
   "cell_type": "code",
   "execution_count": 7,
   "id": "ec284e01",
   "metadata": {
    "execution": {
     "iopub.execute_input": "2024-04-19T07:17:48.388859Z",
     "iopub.status.busy": "2024-04-19T07:17:48.388474Z",
     "iopub.status.idle": "2024-04-19T07:17:48.400333Z",
     "shell.execute_reply": "2024-04-19T07:17:48.399051Z"
    },
    "papermill": {
     "duration": 0.033548,
     "end_time": "2024-04-19T07:17:48.402850",
     "exception": false,
     "start_time": "2024-04-19T07:17:48.369302",
     "status": "completed"
    },
    "tags": []
   },
   "outputs": [
    {
     "data": {
      "text/plain": [
       "battery_power    0\n",
       "blue             0\n",
       "clock_speed      0\n",
       "dual_sim         0\n",
       "fc               0\n",
       "four_g           0\n",
       "int_memory       0\n",
       "m_dep            0\n",
       "mobile_wt        0\n",
       "n_cores          0\n",
       "pc               0\n",
       "px_height        0\n",
       "px_width         0\n",
       "ram              0\n",
       "sc_h             0\n",
       "sc_w             0\n",
       "talk_time        0\n",
       "three_g          0\n",
       "touch_screen     0\n",
       "wifi             0\n",
       "price_range      0\n",
       "dtype: int64"
      ]
     },
     "execution_count": 7,
     "metadata": {},
     "output_type": "execute_result"
    }
   ],
   "source": [
    "df.isnull().sum()"
   ]
  },
  {
   "cell_type": "code",
   "execution_count": 8,
   "id": "fffae69a",
   "metadata": {
    "execution": {
     "iopub.execute_input": "2024-04-19T07:17:48.434506Z",
     "iopub.status.busy": "2024-04-19T07:17:48.434072Z",
     "iopub.status.idle": "2024-04-19T07:17:48.444852Z",
     "shell.execute_reply": "2024-04-19T07:17:48.443617Z"
    },
    "papermill": {
     "duration": 0.029705,
     "end_time": "2024-04-19T07:17:48.447460",
     "exception": false,
     "start_time": "2024-04-19T07:17:48.417755",
     "status": "completed"
    },
    "tags": []
   },
   "outputs": [
    {
     "data": {
      "text/plain": [
       "battery_power       0\n",
       "blue             1010\n",
       "clock_speed         0\n",
       "dual_sim          981\n",
       "fc                474\n",
       "four_g            957\n",
       "int_memory          0\n",
       "m_dep               0\n",
       "mobile_wt           0\n",
       "n_cores             0\n",
       "pc                101\n",
       "px_height           2\n",
       "px_width            0\n",
       "ram                 0\n",
       "sc_h                0\n",
       "sc_w              180\n",
       "talk_time           0\n",
       "three_g           477\n",
       "touch_screen      994\n",
       "wifi              986\n",
       "price_range       500\n",
       "dtype: int64"
      ]
     },
     "execution_count": 8,
     "metadata": {},
     "output_type": "execute_result"
    }
   ],
   "source": [
    "(df == 0 ).sum()"
   ]
  },
  {
   "cell_type": "code",
   "execution_count": 9,
   "id": "d210e660",
   "metadata": {
    "execution": {
     "iopub.execute_input": "2024-04-19T07:17:48.480290Z",
     "iopub.status.busy": "2024-04-19T07:17:48.479831Z",
     "iopub.status.idle": "2024-04-19T07:17:48.488338Z",
     "shell.execute_reply": "2024-04-19T07:17:48.487079Z"
    },
    "papermill": {
     "duration": 0.028093,
     "end_time": "2024-04-19T07:17:48.491260",
     "exception": false,
     "start_time": "2024-04-19T07:17:48.463167",
     "status": "completed"
    },
    "tags": []
   },
   "outputs": [],
   "source": [
    "df['sc_w'] = df['sc_w'].replace(0,df['sc_w'].mean())"
   ]
  },
  {
   "cell_type": "code",
   "execution_count": 10,
   "id": "003669e6",
   "metadata": {
    "execution": {
     "iopub.execute_input": "2024-04-19T07:17:48.523357Z",
     "iopub.status.busy": "2024-04-19T07:17:48.522929Z",
     "iopub.status.idle": "2024-04-19T07:17:48.533863Z",
     "shell.execute_reply": "2024-04-19T07:17:48.532583Z"
    },
    "papermill": {
     "duration": 0.030215,
     "end_time": "2024-04-19T07:17:48.536546",
     "exception": false,
     "start_time": "2024-04-19T07:17:48.506331",
     "status": "completed"
    },
    "tags": []
   },
   "outputs": [
    {
     "data": {
      "text/plain": [
       "battery_power       0\n",
       "blue             1010\n",
       "clock_speed         0\n",
       "dual_sim          981\n",
       "fc                474\n",
       "four_g            957\n",
       "int_memory          0\n",
       "m_dep               0\n",
       "mobile_wt           0\n",
       "n_cores             0\n",
       "pc                101\n",
       "px_height           2\n",
       "px_width            0\n",
       "ram                 0\n",
       "sc_h                0\n",
       "sc_w                0\n",
       "talk_time           0\n",
       "three_g           477\n",
       "touch_screen      994\n",
       "wifi              986\n",
       "price_range       500\n",
       "dtype: int64"
      ]
     },
     "execution_count": 10,
     "metadata": {},
     "output_type": "execute_result"
    }
   ],
   "source": [
    "(df == 0 ).sum()"
   ]
  },
  {
   "cell_type": "code",
   "execution_count": 11,
   "id": "4c43493d",
   "metadata": {
    "execution": {
     "iopub.execute_input": "2024-04-19T07:17:48.568570Z",
     "iopub.status.busy": "2024-04-19T07:17:48.568160Z",
     "iopub.status.idle": "2024-04-19T07:17:50.144077Z",
     "shell.execute_reply": "2024-04-19T07:17:50.142515Z"
    },
    "papermill": {
     "duration": 1.595525,
     "end_time": "2024-04-19T07:17:50.147166",
     "exception": false,
     "start_time": "2024-04-19T07:17:48.551641",
     "status": "completed"
    },
    "tags": []
   },
   "outputs": [],
   "source": [
    "import seaborn as sns\n",
    "import matplotlib.pyplot as plt"
   ]
  },
  {
   "cell_type": "code",
   "execution_count": 12,
   "id": "5cdf7398",
   "metadata": {
    "execution": {
     "iopub.execute_input": "2024-04-19T07:17:50.180632Z",
     "iopub.status.busy": "2024-04-19T07:17:50.180151Z",
     "iopub.status.idle": "2024-04-19T07:17:50.581887Z",
     "shell.execute_reply": "2024-04-19T07:17:50.580576Z"
    },
    "papermill": {
     "duration": 0.42166,
     "end_time": "2024-04-19T07:17:50.584620",
     "exception": false,
     "start_time": "2024-04-19T07:17:50.162960",
     "status": "completed"
    },
    "tags": []
   },
   "outputs": [
    {
     "data": {
      "image/png": "[encoded data removed]",
      "text/plain": [
       "<Figure size 640x480 with 1 Axes>"
      ]
     },
     "metadata": {},
     "output_type": "display_data"
    }
   ],
   "source": [
    "sns.set()\n",
    "price_plot=df['price_range'].value_counts().plot(kind='bar')\n",
    "plt.xlabel('price_range')\n",
    "plt.ylabel('Count')\n",
    "plt.show()"
   ]
  },
  {
   "cell_type": "code",
   "execution_count": 13,
   "id": "0a802221",
   "metadata": {
    "execution": {
     "iopub.execute_input": "2024-04-19T07:17:50.620566Z",
     "iopub.status.busy": "2024-04-19T07:17:50.619152Z",
     "iopub.status.idle": "2024-04-19T07:17:51.245016Z",
     "shell.execute_reply": "2024-04-19T07:17:51.243061Z"
    },
    "papermill": {
     "duration": 0.646774,
     "end_time": "2024-04-19T07:17:51.248414",
     "exception": false,
     "start_time": "2024-04-19T07:17:50.601640",
     "status": "completed"
    },
    "tags": []
   },
   "outputs": [
    {
     "name": "stderr",
     "output_type": "stream",
     "text": [
      "/opt/conda/lib/python3.10/site-packages/seaborn/_oldcore.py:1119: FutureWarning: use_inf_as_na option is deprecated and will be removed in a future version. Convert inf values to NaN before operating instead.\n",
      "  with pd.option_context('mode.use_inf_as_na', True):\n"
     ]
    },
    {
     "data": {
      "image/png": "[encoded data removed]",
      "text/plain": [
       "<Figure size 500x500 with 1 Axes>"
      ]
     },
     "metadata": {},
     "output_type": "display_data"
    }
   ],
   "source": [
    "sns.set(rc={'figure.figsize':(5,5)})\n",
    "ax=sns.displot(data=df[\"battery_power\"])\n",
    "plt.show()"
   ]
  },
  {
   "cell_type": "code",
   "execution_count": 14,
   "id": "cf7f1227",
   "metadata": {
    "execution": {
     "iopub.execute_input": "2024-04-19T07:17:51.282988Z",
     "iopub.status.busy": "2024-04-19T07:17:51.282137Z",
     "iopub.status.idle": "2024-04-19T07:17:51.864495Z",
     "shell.execute_reply": "2024-04-19T07:17:51.863132Z"
    },
    "papermill": {
     "duration": 0.602695,
     "end_time": "2024-04-19T07:17:51.867241",
     "exception": false,
     "start_time": "2024-04-19T07:17:51.264546",
     "status": "completed"
    },
    "tags": []
   },
   "outputs": [
    {
     "name": "stderr",
     "output_type": "stream",
     "text": [
      "/opt/conda/lib/python3.10/site-packages/seaborn/_oldcore.py:1119: FutureWarning: use_inf_as_na option is deprecated and will be removed in a future version. Convert inf values to NaN before operating instead.\n",
      "  with pd.option_context('mode.use_inf_as_na', True):\n"
     ]
    },
    {
     "data": {
      "image/png": "[encoded data removed]",
      "text/plain": [
       "<Figure size 500x500 with 1 Axes>"
      ]
     },
     "metadata": {},
     "output_type": "display_data"
    }
   ],
   "source": [
    "sns.set(rc={'figure.figsize':(5,5)})\n",
    "ax=sns.displot(data=df[\"px_width\"])\n",
    "plt.show()"
   ]
  },
  {
   "cell_type": "code",
   "execution_count": 15,
   "id": "fb3620b5",
   "metadata": {
    "execution": {
     "iopub.execute_input": "2024-04-19T07:17:51.902603Z",
     "iopub.status.busy": "2024-04-19T07:17:51.902110Z",
     "iopub.status.idle": "2024-04-19T07:17:52.460013Z",
     "shell.execute_reply": "2024-04-19T07:17:52.458605Z"
    },
    "papermill": {
     "duration": 0.579878,
     "end_time": "2024-04-19T07:17:52.463406",
     "exception": false,
     "start_time": "2024-04-19T07:17:51.883528",
     "status": "completed"
    },
    "tags": []
   },
   "outputs": [
    {
     "name": "stderr",
     "output_type": "stream",
     "text": [
      "/opt/conda/lib/python3.10/site-packages/seaborn/_oldcore.py:1119: FutureWarning: use_inf_as_na option is deprecated and will be removed in a future version. Convert inf values to NaN before operating instead.\n",
      "  with pd.option_context('mode.use_inf_as_na', True):\n"
     ]
    },
    {
     "data": {
      "image/png": "[encoded data removed]",
      "text/plain": [
       "<Figure size 500x500 with 1 Axes>"
      ]
     },
     "metadata": {},
     "output_type": "display_data"
    }
   ],
   "source": [
    "sns.set(rc={'figure.figsize':(5,5)})\n",
    "ax=sns.displot(data=df[\"px_height\"])\n",
    "plt.show()"
   ]
  },
  {
   "cell_type": "code",
   "execution_count": 16,
   "id": "d7de51bf",
   "metadata": {
    "execution": {
     "iopub.execute_input": "2024-04-19T07:17:52.499312Z",
     "iopub.status.busy": "2024-04-19T07:17:52.498876Z",
     "iopub.status.idle": "2024-04-19T07:17:53.297362Z",
     "shell.execute_reply": "2024-04-19T07:17:53.296180Z"
    },
    "papermill": {
     "duration": 0.819811,
     "end_time": "2024-04-19T07:17:53.300120",
     "exception": false,
     "start_time": "2024-04-19T07:17:52.480309",
     "status": "completed"
    },
    "tags": []
   },
   "outputs": [
    {
     "data": {
      "text/plain": [
       "<Axes: >"
      ]
     },
     "execution_count": 16,
     "metadata": {},
     "output_type": "execute_result"
    },
    {
     "data": {
      "image/png": "[encoded data removed]",
      "text/plain": [
       "<Figure size 500x500 with 2 Axes>"
      ]
     },
     "metadata": {},
     "output_type": "display_data"
    }
   ],
   "source": [
    "sns.heatmap(df.isnull())"
   ]
  },
  {
   "cell_type": "code",
   "execution_count": null,
   "id": "61e538f9",
   "metadata": {
    "papermill": {
     "duration": 0.018477,
     "end_time": "2024-04-19T07:17:53.336399",
     "exception": false,
     "start_time": "2024-04-19T07:17:53.317922",
     "status": "completed"
    },
    "tags": []
   },
   "outputs": [],
   "source": []
  },
  {
   "cell_type": "code",
   "execution_count": 17,
   "id": "2282d3ad",
   "metadata": {
    "execution": {
     "iopub.execute_input": "2024-04-19T07:17:53.374634Z",
     "iopub.status.busy": "2024-04-19T07:17:53.374210Z",
     "iopub.status.idle": "2024-04-19T07:17:53.383968Z",
     "shell.execute_reply": "2024-04-19T07:17:53.382733Z"
    },
    "papermill": {
     "duration": 0.03205,
     "end_time": "2024-04-19T07:17:53.386396",
     "exception": false,
     "start_time": "2024-04-19T07:17:53.354346",
     "status": "completed"
    },
    "tags": []
   },
   "outputs": [
    {
     "data": {
      "text/plain": [
       "id               0\n",
       "battery_power    0\n",
       "blue             0\n",
       "clock_speed      0\n",
       "dual_sim         0\n",
       "fc               0\n",
       "four_g           0\n",
       "int_memory       0\n",
       "m_dep            0\n",
       "mobile_wt        0\n",
       "n_cores          0\n",
       "pc               0\n",
       "px_height        0\n",
       "px_width         0\n",
       "ram              0\n",
       "sc_h             0\n",
       "sc_w             0\n",
       "talk_time        0\n",
       "three_g          0\n",
       "touch_screen     0\n",
       "wifi             0\n",
       "dtype: int64"
      ]
     },
     "execution_count": 17,
     "metadata": {},
     "output_type": "execute_result"
    }
   ],
   "source": [
    "df_test.isnull().sum()"
   ]
  },
  {
   "cell_type": "code",
   "execution_count": 18,
   "id": "7f21dc7e",
   "metadata": {
    "execution": {
     "iopub.execute_input": "2024-04-19T07:17:53.426621Z",
     "iopub.status.busy": "2024-04-19T07:17:53.425868Z",
     "iopub.status.idle": "2024-04-19T07:17:53.435523Z",
     "shell.execute_reply": "2024-04-19T07:17:53.434595Z"
    },
    "papermill": {
     "duration": 0.033177,
     "end_time": "2024-04-19T07:17:53.438124",
     "exception": false,
     "start_time": "2024-04-19T07:17:53.404947",
     "status": "completed"
    },
    "tags": []
   },
   "outputs": [
    {
     "data": {
      "text/plain": [
       "id                 0\n",
       "battery_power      0\n",
       "blue             484\n",
       "clock_speed        0\n",
       "dual_sim         483\n",
       "fc               210\n",
       "four_g           513\n",
       "int_memory         0\n",
       "m_dep              0\n",
       "mobile_wt          0\n",
       "n_cores            0\n",
       "pc                40\n",
       "px_height          2\n",
       "px_width           0\n",
       "ram                0\n",
       "sc_h               0\n",
       "sc_w             112\n",
       "talk_time          0\n",
       "three_g          244\n",
       "touch_screen     500\n",
       "wifi             493\n",
       "dtype: int64"
      ]
     },
     "execution_count": 18,
     "metadata": {},
     "output_type": "execute_result"
    }
   ],
   "source": [
    "(df_test == 0 ).sum()"
   ]
  },
  {
   "cell_type": "code",
   "execution_count": 19,
   "id": "43fcd359",
   "metadata": {
    "execution": {
     "iopub.execute_input": "2024-04-19T07:17:53.478069Z",
     "iopub.status.busy": "2024-04-19T07:17:53.476827Z",
     "iopub.status.idle": "2024-04-19T07:17:53.484634Z",
     "shell.execute_reply": "2024-04-19T07:17:53.483296Z"
    },
    "papermill": {
     "duration": 0.030203,
     "end_time": "2024-04-19T07:17:53.487183",
     "exception": false,
     "start_time": "2024-04-19T07:17:53.456980",
     "status": "completed"
    },
    "tags": []
   },
   "outputs": [],
   "source": [
    "df_test['sc_w'] = df_test['sc_w'].replace(0, df_test['sc_w'].mean())"
   ]
  },
  {
   "cell_type": "code",
   "execution_count": null,
   "id": "62de6429",
   "metadata": {
    "papermill": {
     "duration": 0.018842,
     "end_time": "2024-04-19T07:17:53.524405",
     "exception": false,
     "start_time": "2024-04-19T07:17:53.505563",
     "status": "completed"
    },
    "tags": []
   },
   "outputs": [],
   "source": []
  },
  {
   "cell_type": "code",
   "execution_count": 20,
   "id": "1b871859",
   "metadata": {
    "execution": {
     "iopub.execute_input": "2024-04-19T07:17:53.563912Z",
     "iopub.status.busy": "2024-04-19T07:17:53.563469Z",
     "iopub.status.idle": "2024-04-19T07:17:53.586490Z",
     "shell.execute_reply": "2024-04-19T07:17:53.585654Z"
    },
    "papermill": {
     "duration": 0.046019,
     "end_time": "2024-04-19T07:17:53.588839",
     "exception": false,
     "start_time": "2024-04-19T07:17:53.542820",
     "status": "completed"
    },
    "tags": []
   },
   "outputs": [
    {
     "data": {
      "text/html": [
       "<div>\n",
       "<style scoped>\n",
       "    .dataframe tbody tr th:only-of-type {\n",
       "        vertical-align: middle;\n",
       "    }\n",
       "\n",
       "    .dataframe tbody tr th {\n",
       "        vertical-align: top;\n",
       "    }\n",
       "\n",
       "    .dataframe thead th {\n",
       "        text-align: right;\n",
       "    }\n",
       "</style>\n",
       "<table border=\"1\" class=\"dataframe\">\n",
       "  <thead>\n",
       "    <tr style=\"text-align: right;\">\n",
       "      <th></th>\n",
       "      <th>id</th>\n",
       "      <th>battery_power</th>\n",
       "      <th>blue</th>\n",
       "      <th>clock_speed</th>\n",
       "      <th>dual_sim</th>\n",
       "      <th>fc</th>\n",
       "      <th>four_g</th>\n",
       "      <th>int_memory</th>\n",
       "      <th>m_dep</th>\n",
       "      <th>mobile_wt</th>\n",
       "      <th>...</th>\n",
       "      <th>pc</th>\n",
       "      <th>px_height</th>\n",
       "      <th>px_width</th>\n",
       "      <th>ram</th>\n",
       "      <th>sc_h</th>\n",
       "      <th>sc_w</th>\n",
       "      <th>talk_time</th>\n",
       "      <th>three_g</th>\n",
       "      <th>touch_screen</th>\n",
       "      <th>wifi</th>\n",
       "    </tr>\n",
       "  </thead>\n",
       "  <tbody>\n",
       "    <tr>\n",
       "      <th>0</th>\n",
       "      <td>1</td>\n",
       "      <td>1043</td>\n",
       "      <td>1</td>\n",
       "      <td>1.8</td>\n",
       "      <td>1</td>\n",
       "      <td>14</td>\n",
       "      <td>0</td>\n",
       "      <td>5</td>\n",
       "      <td>0.1</td>\n",
       "      <td>193</td>\n",
       "      <td>...</td>\n",
       "      <td>16</td>\n",
       "      <td>226</td>\n",
       "      <td>1412</td>\n",
       "      <td>3476</td>\n",
       "      <td>12</td>\n",
       "      <td>7.000</td>\n",
       "      <td>2</td>\n",
       "      <td>0</td>\n",
       "      <td>1</td>\n",
       "      <td>0</td>\n",
       "    </tr>\n",
       "    <tr>\n",
       "      <th>1</th>\n",
       "      <td>2</td>\n",
       "      <td>841</td>\n",
       "      <td>1</td>\n",
       "      <td>0.5</td>\n",
       "      <td>1</td>\n",
       "      <td>4</td>\n",
       "      <td>1</td>\n",
       "      <td>61</td>\n",
       "      <td>0.8</td>\n",
       "      <td>191</td>\n",
       "      <td>...</td>\n",
       "      <td>12</td>\n",
       "      <td>746</td>\n",
       "      <td>857</td>\n",
       "      <td>3895</td>\n",
       "      <td>6</td>\n",
       "      <td>5.316</td>\n",
       "      <td>7</td>\n",
       "      <td>1</td>\n",
       "      <td>0</td>\n",
       "      <td>0</td>\n",
       "    </tr>\n",
       "    <tr>\n",
       "      <th>2</th>\n",
       "      <td>3</td>\n",
       "      <td>1807</td>\n",
       "      <td>1</td>\n",
       "      <td>2.8</td>\n",
       "      <td>0</td>\n",
       "      <td>1</td>\n",
       "      <td>0</td>\n",
       "      <td>27</td>\n",
       "      <td>0.9</td>\n",
       "      <td>186</td>\n",
       "      <td>...</td>\n",
       "      <td>4</td>\n",
       "      <td>1270</td>\n",
       "      <td>1366</td>\n",
       "      <td>2396</td>\n",
       "      <td>17</td>\n",
       "      <td>10.000</td>\n",
       "      <td>10</td>\n",
       "      <td>0</td>\n",
       "      <td>1</td>\n",
       "      <td>1</td>\n",
       "    </tr>\n",
       "    <tr>\n",
       "      <th>3</th>\n",
       "      <td>4</td>\n",
       "      <td>1546</td>\n",
       "      <td>0</td>\n",
       "      <td>0.5</td>\n",
       "      <td>1</td>\n",
       "      <td>18</td>\n",
       "      <td>1</td>\n",
       "      <td>25</td>\n",
       "      <td>0.5</td>\n",
       "      <td>96</td>\n",
       "      <td>...</td>\n",
       "      <td>20</td>\n",
       "      <td>295</td>\n",
       "      <td>1752</td>\n",
       "      <td>3893</td>\n",
       "      <td>10</td>\n",
       "      <td>5.316</td>\n",
       "      <td>7</td>\n",
       "      <td>1</td>\n",
       "      <td>1</td>\n",
       "      <td>0</td>\n",
       "    </tr>\n",
       "    <tr>\n",
       "      <th>4</th>\n",
       "      <td>5</td>\n",
       "      <td>1434</td>\n",
       "      <td>0</td>\n",
       "      <td>1.4</td>\n",
       "      <td>0</td>\n",
       "      <td>11</td>\n",
       "      <td>1</td>\n",
       "      <td>49</td>\n",
       "      <td>0.5</td>\n",
       "      <td>108</td>\n",
       "      <td>...</td>\n",
       "      <td>18</td>\n",
       "      <td>749</td>\n",
       "      <td>810</td>\n",
       "      <td>1773</td>\n",
       "      <td>15</td>\n",
       "      <td>8.000</td>\n",
       "      <td>7</td>\n",
       "      <td>1</td>\n",
       "      <td>0</td>\n",
       "      <td>1</td>\n",
       "    </tr>\n",
       "  </tbody>\n",
       "</table>\n",
       "<p>5 rows × 21 columns</p>\n",
       "</div>"
      ],
      "text/plain": [
       "   id  battery_power  blue  clock_speed  dual_sim  fc  four_g  int_memory  \\\n",
       "0   1           1043     1          1.8         1  14       0           5   \n",
       "1   2            841     1          0.5         1   4       1          61   \n",
       "2   3           1807     1          2.8         0   1       0          27   \n",
       "3   4           1546     0          0.5         1  18       1          25   \n",
       "4   5           1434     0          1.4         0  11       1          49   \n",
       "\n",
       "   m_dep  mobile_wt  ...  pc  px_height  px_width   ram  sc_h    sc_w  \\\n",
       "0    0.1        193  ...  16        226      1412  3476    12   7.000   \n",
       "1    0.8        191  ...  12        746       857  3895     6   5.316   \n",
       "2    0.9        186  ...   4       1270      1366  2396    17  10.000   \n",
       "3    0.5         96  ...  20        295      1752  3893    10   5.316   \n",
       "4    0.5        108  ...  18        749       810  1773    15   8.000   \n",
       "\n",
       "   talk_time  three_g  touch_screen  wifi  \n",
       "0          2        0             1     0  \n",
       "1          7        1             0     0  \n",
       "2         10        0             1     1  \n",
       "3          7        1             1     0  \n",
       "4          7        1             0     1  \n",
       "\n",
       "[5 rows x 21 columns]"
      ]
     },
     "execution_count": 20,
     "metadata": {},
     "output_type": "execute_result"
    }
   ],
   "source": [
    "df_test.head()"
   ]
  },
  {
   "cell_type": "code",
   "execution_count": 21,
   "id": "6b75aadd",
   "metadata": {
    "execution": {
     "iopub.execute_input": "2024-04-19T07:17:53.628436Z",
     "iopub.status.busy": "2024-04-19T07:17:53.627992Z",
     "iopub.status.idle": "2024-04-19T07:17:53.633418Z",
     "shell.execute_reply": "2024-04-19T07:17:53.632209Z"
    },
    "papermill": {
     "duration": 0.028451,
     "end_time": "2024-04-19T07:17:53.635918",
     "exception": false,
     "start_time": "2024-04-19T07:17:53.607467",
     "status": "completed"
    },
    "tags": []
   },
   "outputs": [],
   "source": [
    "# df = (df - df.min())/(df.max() - df.min())\n",
    "# df"
   ]
  },
  {
   "cell_type": "markdown",
   "id": "7942e9ac",
   "metadata": {
    "papermill": {
     "duration": 0.08161,
     "end_time": "2024-04-19T07:17:53.736938",
     "exception": false,
     "start_time": "2024-04-19T07:17:53.655328",
     "status": "completed"
    },
    "tags": []
   },
   "source": [
    "## Data splitting"
   ]
  },
  {
   "cell_type": "code",
   "execution_count": 22,
   "id": "f67d56a6",
   "metadata": {
    "execution": {
     "iopub.execute_input": "2024-04-19T07:17:53.777405Z",
     "iopub.status.busy": "2024-04-19T07:17:53.776964Z",
     "iopub.status.idle": "2024-04-19T07:17:53.785649Z",
     "shell.execute_reply": "2024-04-19T07:17:53.784449Z"
    },
    "papermill": {
     "duration": 0.031806,
     "end_time": "2024-04-19T07:17:53.788164",
     "exception": false,
     "start_time": "2024-04-19T07:17:53.756358",
     "status": "completed"
    },
    "tags": []
   },
   "outputs": [
    {
     "data": {
      "text/plain": [
       "0       1\n",
       "1       2\n",
       "2       2\n",
       "3       2\n",
       "4       1\n",
       "       ..\n",
       "1995    0\n",
       "1996    2\n",
       "1997    3\n",
       "1998    0\n",
       "1999    3\n",
       "Name: price_range, Length: 2000, dtype: int64"
      ]
     },
     "execution_count": 22,
     "metadata": {},
     "output_type": "execute_result"
    }
   ],
   "source": [
    "# dependent\n",
    "y = df['price_range']\n",
    "y"
   ]
  },
  {
   "cell_type": "code",
   "execution_count": 23,
   "id": "9a9589ee",
   "metadata": {
    "execution": {
     "iopub.execute_input": "2024-04-19T07:17:53.828273Z",
     "iopub.status.busy": "2024-04-19T07:17:53.827837Z",
     "iopub.status.idle": "2024-04-19T07:17:53.856540Z",
     "shell.execute_reply": "2024-04-19T07:17:53.855286Z"
    },
    "papermill": {
     "duration": 0.052336,
     "end_time": "2024-04-19T07:17:53.859339",
     "exception": false,
     "start_time": "2024-04-19T07:17:53.807003",
     "status": "completed"
    },
    "tags": []
   },
   "outputs": [
    {
     "data": {
      "text/html": [
       "<div>\n",
       "<style scoped>\n",
       "    .dataframe tbody tr th:only-of-type {\n",
       "        vertical-align: middle;\n",
       "    }\n",
       "\n",
       "    .dataframe tbody tr th {\n",
       "        vertical-align: top;\n",
       "    }\n",
       "\n",
       "    .dataframe thead th {\n",
       "        text-align: right;\n",
       "    }\n",
       "</style>\n",
       "<table border=\"1\" class=\"dataframe\">\n",
       "  <thead>\n",
       "    <tr style=\"text-align: right;\">\n",
       "      <th></th>\n",
       "      <th>battery_power</th>\n",
       "      <th>blue</th>\n",
       "      <th>clock_speed</th>\n",
       "      <th>dual_sim</th>\n",
       "      <th>fc</th>\n",
       "      <th>four_g</th>\n",
       "      <th>int_memory</th>\n",
       "      <th>m_dep</th>\n",
       "      <th>mobile_wt</th>\n",
       "      <th>n_cores</th>\n",
       "      <th>pc</th>\n",
       "      <th>px_height</th>\n",
       "      <th>px_width</th>\n",
       "      <th>ram</th>\n",
       "      <th>sc_h</th>\n",
       "      <th>sc_w</th>\n",
       "      <th>talk_time</th>\n",
       "      <th>three_g</th>\n",
       "      <th>touch_screen</th>\n",
       "      <th>wifi</th>\n",
       "    </tr>\n",
       "  </thead>\n",
       "  <tbody>\n",
       "    <tr>\n",
       "      <th>0</th>\n",
       "      <td>842</td>\n",
       "      <td>0</td>\n",
       "      <td>2.2</td>\n",
       "      <td>0</td>\n",
       "      <td>1</td>\n",
       "      <td>0</td>\n",
       "      <td>7</td>\n",
       "      <td>0.6</td>\n",
       "      <td>188</td>\n",
       "      <td>2</td>\n",
       "      <td>2</td>\n",
       "      <td>20</td>\n",
       "      <td>756</td>\n",
       "      <td>2549</td>\n",
       "      <td>9</td>\n",
       "      <td>7.0</td>\n",
       "      <td>19</td>\n",
       "      <td>0</td>\n",
       "      <td>0</td>\n",
       "      <td>1</td>\n",
       "    </tr>\n",
       "    <tr>\n",
       "      <th>1</th>\n",
       "      <td>1021</td>\n",
       "      <td>1</td>\n",
       "      <td>0.5</td>\n",
       "      <td>1</td>\n",
       "      <td>0</td>\n",
       "      <td>1</td>\n",
       "      <td>53</td>\n",
       "      <td>0.7</td>\n",
       "      <td>136</td>\n",
       "      <td>3</td>\n",
       "      <td>6</td>\n",
       "      <td>905</td>\n",
       "      <td>1988</td>\n",
       "      <td>2631</td>\n",
       "      <td>17</td>\n",
       "      <td>3.0</td>\n",
       "      <td>7</td>\n",
       "      <td>1</td>\n",
       "      <td>1</td>\n",
       "      <td>0</td>\n",
       "    </tr>\n",
       "    <tr>\n",
       "      <th>2</th>\n",
       "      <td>563</td>\n",
       "      <td>1</td>\n",
       "      <td>0.5</td>\n",
       "      <td>1</td>\n",
       "      <td>2</td>\n",
       "      <td>1</td>\n",
       "      <td>41</td>\n",
       "      <td>0.9</td>\n",
       "      <td>145</td>\n",
       "      <td>5</td>\n",
       "      <td>6</td>\n",
       "      <td>1263</td>\n",
       "      <td>1716</td>\n",
       "      <td>2603</td>\n",
       "      <td>11</td>\n",
       "      <td>2.0</td>\n",
       "      <td>9</td>\n",
       "      <td>1</td>\n",
       "      <td>1</td>\n",
       "      <td>0</td>\n",
       "    </tr>\n",
       "    <tr>\n",
       "      <th>3</th>\n",
       "      <td>615</td>\n",
       "      <td>1</td>\n",
       "      <td>2.5</td>\n",
       "      <td>0</td>\n",
       "      <td>0</td>\n",
       "      <td>0</td>\n",
       "      <td>10</td>\n",
       "      <td>0.8</td>\n",
       "      <td>131</td>\n",
       "      <td>6</td>\n",
       "      <td>9</td>\n",
       "      <td>1216</td>\n",
       "      <td>1786</td>\n",
       "      <td>2769</td>\n",
       "      <td>16</td>\n",
       "      <td>8.0</td>\n",
       "      <td>11</td>\n",
       "      <td>1</td>\n",
       "      <td>0</td>\n",
       "      <td>0</td>\n",
       "    </tr>\n",
       "    <tr>\n",
       "      <th>4</th>\n",
       "      <td>1821</td>\n",
       "      <td>1</td>\n",
       "      <td>1.2</td>\n",
       "      <td>0</td>\n",
       "      <td>13</td>\n",
       "      <td>1</td>\n",
       "      <td>44</td>\n",
       "      <td>0.6</td>\n",
       "      <td>141</td>\n",
       "      <td>2</td>\n",
       "      <td>14</td>\n",
       "      <td>1208</td>\n",
       "      <td>1212</td>\n",
       "      <td>1411</td>\n",
       "      <td>8</td>\n",
       "      <td>2.0</td>\n",
       "      <td>15</td>\n",
       "      <td>1</td>\n",
       "      <td>1</td>\n",
       "      <td>0</td>\n",
       "    </tr>\n",
       "    <tr>\n",
       "      <th>...</th>\n",
       "      <td>...</td>\n",
       "      <td>...</td>\n",
       "      <td>...</td>\n",
       "      <td>...</td>\n",
       "      <td>...</td>\n",
       "      <td>...</td>\n",
       "      <td>...</td>\n",
       "      <td>...</td>\n",
       "      <td>...</td>\n",
       "      <td>...</td>\n",
       "      <td>...</td>\n",
       "      <td>...</td>\n",
       "      <td>...</td>\n",
       "      <td>...</td>\n",
       "      <td>...</td>\n",
       "      <td>...</td>\n",
       "      <td>...</td>\n",
       "      <td>...</td>\n",
       "      <td>...</td>\n",
       "      <td>...</td>\n",
       "    </tr>\n",
       "    <tr>\n",
       "      <th>1995</th>\n",
       "      <td>794</td>\n",
       "      <td>1</td>\n",
       "      <td>0.5</td>\n",
       "      <td>1</td>\n",
       "      <td>0</td>\n",
       "      <td>1</td>\n",
       "      <td>2</td>\n",
       "      <td>0.8</td>\n",
       "      <td>106</td>\n",
       "      <td>6</td>\n",
       "      <td>14</td>\n",
       "      <td>1222</td>\n",
       "      <td>1890</td>\n",
       "      <td>668</td>\n",
       "      <td>13</td>\n",
       "      <td>4.0</td>\n",
       "      <td>19</td>\n",
       "      <td>1</td>\n",
       "      <td>1</td>\n",
       "      <td>0</td>\n",
       "    </tr>\n",
       "    <tr>\n",
       "      <th>1996</th>\n",
       "      <td>1965</td>\n",
       "      <td>1</td>\n",
       "      <td>2.6</td>\n",
       "      <td>1</td>\n",
       "      <td>0</td>\n",
       "      <td>0</td>\n",
       "      <td>39</td>\n",
       "      <td>0.2</td>\n",
       "      <td>187</td>\n",
       "      <td>4</td>\n",
       "      <td>3</td>\n",
       "      <td>915</td>\n",
       "      <td>1965</td>\n",
       "      <td>2032</td>\n",
       "      <td>11</td>\n",
       "      <td>10.0</td>\n",
       "      <td>16</td>\n",
       "      <td>1</td>\n",
       "      <td>1</td>\n",
       "      <td>1</td>\n",
       "    </tr>\n",
       "    <tr>\n",
       "      <th>1997</th>\n",
       "      <td>1911</td>\n",
       "      <td>0</td>\n",
       "      <td>0.9</td>\n",
       "      <td>1</td>\n",
       "      <td>1</td>\n",
       "      <td>1</td>\n",
       "      <td>36</td>\n",
       "      <td>0.7</td>\n",
       "      <td>108</td>\n",
       "      <td>8</td>\n",
       "      <td>3</td>\n",
       "      <td>868</td>\n",
       "      <td>1632</td>\n",
       "      <td>3057</td>\n",
       "      <td>9</td>\n",
       "      <td>1.0</td>\n",
       "      <td>5</td>\n",
       "      <td>1</td>\n",
       "      <td>1</td>\n",
       "      <td>0</td>\n",
       "    </tr>\n",
       "    <tr>\n",
       "      <th>1998</th>\n",
       "      <td>1512</td>\n",
       "      <td>0</td>\n",
       "      <td>0.9</td>\n",
       "      <td>0</td>\n",
       "      <td>4</td>\n",
       "      <td>1</td>\n",
       "      <td>46</td>\n",
       "      <td>0.1</td>\n",
       "      <td>145</td>\n",
       "      <td>5</td>\n",
       "      <td>5</td>\n",
       "      <td>336</td>\n",
       "      <td>670</td>\n",
       "      <td>869</td>\n",
       "      <td>18</td>\n",
       "      <td>10.0</td>\n",
       "      <td>19</td>\n",
       "      <td>1</td>\n",
       "      <td>1</td>\n",
       "      <td>1</td>\n",
       "    </tr>\n",
       "    <tr>\n",
       "      <th>1999</th>\n",
       "      <td>510</td>\n",
       "      <td>1</td>\n",
       "      <td>2.0</td>\n",
       "      <td>1</td>\n",
       "      <td>5</td>\n",
       "      <td>1</td>\n",
       "      <td>45</td>\n",
       "      <td>0.9</td>\n",
       "      <td>168</td>\n",
       "      <td>6</td>\n",
       "      <td>16</td>\n",
       "      <td>483</td>\n",
       "      <td>754</td>\n",
       "      <td>3919</td>\n",
       "      <td>19</td>\n",
       "      <td>4.0</td>\n",
       "      <td>2</td>\n",
       "      <td>1</td>\n",
       "      <td>1</td>\n",
       "      <td>1</td>\n",
       "    </tr>\n",
       "  </tbody>\n",
       "</table>\n",
       "<p>2000 rows × 20 columns</p>\n",
       "</div>"
      ],
      "text/plain": [
       "      battery_power  blue  clock_speed  dual_sim  fc  four_g  int_memory  \\\n",
       "0               842     0          2.2         0   1       0           7   \n",
       "1              1021     1          0.5         1   0       1          53   \n",
       "2               563     1          0.5         1   2       1          41   \n",
       "3               615     1          2.5         0   0       0          10   \n",
       "4              1821     1          1.2         0  13       1          44   \n",
       "...             ...   ...          ...       ...  ..     ...         ...   \n",
       "1995            794     1          0.5         1   0       1           2   \n",
       "1996           1965     1          2.6         1   0       0          39   \n",
       "1997           1911     0          0.9         1   1       1          36   \n",
       "1998           1512     0          0.9         0   4       1          46   \n",
       "1999            510     1          2.0         1   5       1          45   \n",
       "\n",
       "      m_dep  mobile_wt  n_cores  pc  px_height  px_width   ram  sc_h  sc_w  \\\n",
       "0       0.6        188        2   2         20       756  2549     9   7.0   \n",
       "1       0.7        136        3   6        905      1988  2631    17   3.0   \n",
       "2       0.9        145        5   6       1263      1716  2603    11   2.0   \n",
       "3       0.8        131        6   9       1216      1786  2769    16   8.0   \n",
       "4       0.6        141        2  14       1208      1212  1411     8   2.0   \n",
       "...     ...        ...      ...  ..        ...       ...   ...   ...   ...   \n",
       "1995    0.8        106        6  14       1222      1890   668    13   4.0   \n",
       "1996    0.2        187        4   3        915      1965  2032    11  10.0   \n",
       "1997    0.7        108        8   3        868      1632  3057     9   1.0   \n",
       "1998    0.1        145        5   5        336       670   869    18  10.0   \n",
       "1999    0.9        168        6  16        483       754  3919    19   4.0   \n",
       "\n",
       "      talk_time  three_g  touch_screen  wifi  \n",
       "0            19        0             0     1  \n",
       "1             7        1             1     0  \n",
       "2             9        1             1     0  \n",
       "3            11        1             0     0  \n",
       "4            15        1             1     0  \n",
       "...         ...      ...           ...   ...  \n",
       "1995         19        1             1     0  \n",
       "1996         16        1             1     1  \n",
       "1997          5        1             1     0  \n",
       "1998         19        1             1     1  \n",
       "1999          2        1             1     1  \n",
       "\n",
       "[2000 rows x 20 columns]"
      ]
     },
     "execution_count": 23,
     "metadata": {},
     "output_type": "execute_result"
    }
   ],
   "source": [
    "x = df.drop('price_range',axis=1)\n",
    "x"
   ]
  },
  {
   "cell_type": "code",
   "execution_count": 24,
   "id": "c1704169",
   "metadata": {
    "execution": {
     "iopub.execute_input": "2024-04-19T07:17:53.900330Z",
     "iopub.status.busy": "2024-04-19T07:17:53.899875Z",
     "iopub.status.idle": "2024-04-19T07:17:54.214858Z",
     "shell.execute_reply": "2024-04-19T07:17:54.213213Z"
    },
    "papermill": {
     "duration": 0.338885,
     "end_time": "2024-04-19T07:17:54.217774",
     "exception": false,
     "start_time": "2024-04-19T07:17:53.878889",
     "status": "completed"
    },
    "tags": []
   },
   "outputs": [],
   "source": [
    "from sklearn.model_selection import train_test_split\n",
    "x_train, x_valid, y_train, y_valid = train_test_split(x, y, test_size=0.2, random_state=7)"
   ]
  },
  {
   "cell_type": "code",
   "execution_count": 25,
   "id": "c78c9407",
   "metadata": {
    "execution": {
     "iopub.execute_input": "2024-04-19T07:17:54.260478Z",
     "iopub.status.busy": "2024-04-19T07:17:54.260023Z",
     "iopub.status.idle": "2024-04-19T07:17:54.291143Z",
     "shell.execute_reply": "2024-04-19T07:17:54.290289Z"
    },
    "papermill": {
     "duration": 0.055241,
     "end_time": "2024-04-19T07:17:54.293645",
     "exception": false,
     "start_time": "2024-04-19T07:17:54.238404",
     "status": "completed"
    },
    "tags": []
   },
   "outputs": [
    {
     "data": {
      "text/html": [
       "<div>\n",
       "<style scoped>\n",
       "    .dataframe tbody tr th:only-of-type {\n",
       "        vertical-align: middle;\n",
       "    }\n",
       "\n",
       "    .dataframe tbody tr th {\n",
       "        vertical-align: top;\n",
       "    }\n",
       "\n",
       "    .dataframe thead th {\n",
       "        text-align: right;\n",
       "    }\n",
       "</style>\n",
       "<table border=\"1\" class=\"dataframe\">\n",
       "  <thead>\n",
       "    <tr style=\"text-align: right;\">\n",
       "      <th></th>\n",
       "      <th>battery_power</th>\n",
       "      <th>blue</th>\n",
       "      <th>clock_speed</th>\n",
       "      <th>dual_sim</th>\n",
       "      <th>fc</th>\n",
       "      <th>four_g</th>\n",
       "      <th>int_memory</th>\n",
       "      <th>m_dep</th>\n",
       "      <th>mobile_wt</th>\n",
       "      <th>n_cores</th>\n",
       "      <th>pc</th>\n",
       "      <th>px_height</th>\n",
       "      <th>px_width</th>\n",
       "      <th>ram</th>\n",
       "      <th>sc_h</th>\n",
       "      <th>sc_w</th>\n",
       "      <th>talk_time</th>\n",
       "      <th>three_g</th>\n",
       "      <th>touch_screen</th>\n",
       "      <th>wifi</th>\n",
       "    </tr>\n",
       "  </thead>\n",
       "  <tbody>\n",
       "    <tr>\n",
       "      <th>0</th>\n",
       "      <td>1043</td>\n",
       "      <td>1</td>\n",
       "      <td>1.8</td>\n",
       "      <td>1</td>\n",
       "      <td>14</td>\n",
       "      <td>0</td>\n",
       "      <td>5</td>\n",
       "      <td>0.1</td>\n",
       "      <td>193</td>\n",
       "      <td>3</td>\n",
       "      <td>16</td>\n",
       "      <td>226</td>\n",
       "      <td>1412</td>\n",
       "      <td>3476</td>\n",
       "      <td>12</td>\n",
       "      <td>7.000</td>\n",
       "      <td>2</td>\n",
       "      <td>0</td>\n",
       "      <td>1</td>\n",
       "      <td>0</td>\n",
       "    </tr>\n",
       "    <tr>\n",
       "      <th>1</th>\n",
       "      <td>841</td>\n",
       "      <td>1</td>\n",
       "      <td>0.5</td>\n",
       "      <td>1</td>\n",
       "      <td>4</td>\n",
       "      <td>1</td>\n",
       "      <td>61</td>\n",
       "      <td>0.8</td>\n",
       "      <td>191</td>\n",
       "      <td>5</td>\n",
       "      <td>12</td>\n",
       "      <td>746</td>\n",
       "      <td>857</td>\n",
       "      <td>3895</td>\n",
       "      <td>6</td>\n",
       "      <td>5.316</td>\n",
       "      <td>7</td>\n",
       "      <td>1</td>\n",
       "      <td>0</td>\n",
       "      <td>0</td>\n",
       "    </tr>\n",
       "    <tr>\n",
       "      <th>2</th>\n",
       "      <td>1807</td>\n",
       "      <td>1</td>\n",
       "      <td>2.8</td>\n",
       "      <td>0</td>\n",
       "      <td>1</td>\n",
       "      <td>0</td>\n",
       "      <td>27</td>\n",
       "      <td>0.9</td>\n",
       "      <td>186</td>\n",
       "      <td>3</td>\n",
       "      <td>4</td>\n",
       "      <td>1270</td>\n",
       "      <td>1366</td>\n",
       "      <td>2396</td>\n",
       "      <td>17</td>\n",
       "      <td>10.000</td>\n",
       "      <td>10</td>\n",
       "      <td>0</td>\n",
       "      <td>1</td>\n",
       "      <td>1</td>\n",
       "    </tr>\n",
       "    <tr>\n",
       "      <th>3</th>\n",
       "      <td>1546</td>\n",
       "      <td>0</td>\n",
       "      <td>0.5</td>\n",
       "      <td>1</td>\n",
       "      <td>18</td>\n",
       "      <td>1</td>\n",
       "      <td>25</td>\n",
       "      <td>0.5</td>\n",
       "      <td>96</td>\n",
       "      <td>8</td>\n",
       "      <td>20</td>\n",
       "      <td>295</td>\n",
       "      <td>1752</td>\n",
       "      <td>3893</td>\n",
       "      <td>10</td>\n",
       "      <td>5.316</td>\n",
       "      <td>7</td>\n",
       "      <td>1</td>\n",
       "      <td>1</td>\n",
       "      <td>0</td>\n",
       "    </tr>\n",
       "    <tr>\n",
       "      <th>4</th>\n",
       "      <td>1434</td>\n",
       "      <td>0</td>\n",
       "      <td>1.4</td>\n",
       "      <td>0</td>\n",
       "      <td>11</td>\n",
       "      <td>1</td>\n",
       "      <td>49</td>\n",
       "      <td>0.5</td>\n",
       "      <td>108</td>\n",
       "      <td>6</td>\n",
       "      <td>18</td>\n",
       "      <td>749</td>\n",
       "      <td>810</td>\n",
       "      <td>1773</td>\n",
       "      <td>15</td>\n",
       "      <td>8.000</td>\n",
       "      <td>7</td>\n",
       "      <td>1</td>\n",
       "      <td>0</td>\n",
       "      <td>1</td>\n",
       "    </tr>\n",
       "    <tr>\n",
       "      <th>...</th>\n",
       "      <td>...</td>\n",
       "      <td>...</td>\n",
       "      <td>...</td>\n",
       "      <td>...</td>\n",
       "      <td>...</td>\n",
       "      <td>...</td>\n",
       "      <td>...</td>\n",
       "      <td>...</td>\n",
       "      <td>...</td>\n",
       "      <td>...</td>\n",
       "      <td>...</td>\n",
       "      <td>...</td>\n",
       "      <td>...</td>\n",
       "      <td>...</td>\n",
       "      <td>...</td>\n",
       "      <td>...</td>\n",
       "      <td>...</td>\n",
       "      <td>...</td>\n",
       "      <td>...</td>\n",
       "      <td>...</td>\n",
       "    </tr>\n",
       "    <tr>\n",
       "      <th>995</th>\n",
       "      <td>1700</td>\n",
       "      <td>1</td>\n",
       "      <td>1.9</td>\n",
       "      <td>0</td>\n",
       "      <td>0</td>\n",
       "      <td>1</td>\n",
       "      <td>54</td>\n",
       "      <td>0.5</td>\n",
       "      <td>170</td>\n",
       "      <td>7</td>\n",
       "      <td>17</td>\n",
       "      <td>644</td>\n",
       "      <td>913</td>\n",
       "      <td>2121</td>\n",
       "      <td>14</td>\n",
       "      <td>8.000</td>\n",
       "      <td>15</td>\n",
       "      <td>1</td>\n",
       "      <td>1</td>\n",
       "      <td>0</td>\n",
       "    </tr>\n",
       "    <tr>\n",
       "      <th>996</th>\n",
       "      <td>609</td>\n",
       "      <td>0</td>\n",
       "      <td>1.8</td>\n",
       "      <td>1</td>\n",
       "      <td>0</td>\n",
       "      <td>0</td>\n",
       "      <td>13</td>\n",
       "      <td>0.9</td>\n",
       "      <td>186</td>\n",
       "      <td>4</td>\n",
       "      <td>2</td>\n",
       "      <td>1152</td>\n",
       "      <td>1632</td>\n",
       "      <td>1933</td>\n",
       "      <td>8</td>\n",
       "      <td>1.000</td>\n",
       "      <td>19</td>\n",
       "      <td>0</td>\n",
       "      <td>1</td>\n",
       "      <td>1</td>\n",
       "    </tr>\n",
       "    <tr>\n",
       "      <th>997</th>\n",
       "      <td>1185</td>\n",
       "      <td>0</td>\n",
       "      <td>1.4</td>\n",
       "      <td>0</td>\n",
       "      <td>1</td>\n",
       "      <td>1</td>\n",
       "      <td>8</td>\n",
       "      <td>0.5</td>\n",
       "      <td>80</td>\n",
       "      <td>1</td>\n",
       "      <td>12</td>\n",
       "      <td>477</td>\n",
       "      <td>825</td>\n",
       "      <td>1223</td>\n",
       "      <td>5</td>\n",
       "      <td>5.316</td>\n",
       "      <td>14</td>\n",
       "      <td>1</td>\n",
       "      <td>0</td>\n",
       "      <td>0</td>\n",
       "    </tr>\n",
       "    <tr>\n",
       "      <th>998</th>\n",
       "      <td>1533</td>\n",
       "      <td>1</td>\n",
       "      <td>0.5</td>\n",
       "      <td>1</td>\n",
       "      <td>0</td>\n",
       "      <td>0</td>\n",
       "      <td>50</td>\n",
       "      <td>0.4</td>\n",
       "      <td>171</td>\n",
       "      <td>2</td>\n",
       "      <td>12</td>\n",
       "      <td>38</td>\n",
       "      <td>832</td>\n",
       "      <td>2509</td>\n",
       "      <td>15</td>\n",
       "      <td>11.000</td>\n",
       "      <td>6</td>\n",
       "      <td>0</td>\n",
       "      <td>1</td>\n",
       "      <td>0</td>\n",
       "    </tr>\n",
       "    <tr>\n",
       "      <th>999</th>\n",
       "      <td>1270</td>\n",
       "      <td>1</td>\n",
       "      <td>0.5</td>\n",
       "      <td>0</td>\n",
       "      <td>4</td>\n",
       "      <td>1</td>\n",
       "      <td>35</td>\n",
       "      <td>0.1</td>\n",
       "      <td>140</td>\n",
       "      <td>6</td>\n",
       "      <td>19</td>\n",
       "      <td>457</td>\n",
       "      <td>608</td>\n",
       "      <td>2828</td>\n",
       "      <td>9</td>\n",
       "      <td>2.000</td>\n",
       "      <td>3</td>\n",
       "      <td>1</td>\n",
       "      <td>0</td>\n",
       "      <td>1</td>\n",
       "    </tr>\n",
       "  </tbody>\n",
       "</table>\n",
       "<p>1000 rows × 20 columns</p>\n",
       "</div>"
      ],
      "text/plain": [
       "     battery_power  blue  clock_speed  dual_sim  fc  four_g  int_memory  \\\n",
       "0             1043     1          1.8         1  14       0           5   \n",
       "1              841     1          0.5         1   4       1          61   \n",
       "2             1807     1          2.8         0   1       0          27   \n",
       "3             1546     0          0.5         1  18       1          25   \n",
       "4             1434     0          1.4         0  11       1          49   \n",
       "..             ...   ...          ...       ...  ..     ...         ...   \n",
       "995           1700     1          1.9         0   0       1          54   \n",
       "996            609     0          1.8         1   0       0          13   \n",
       "997           1185     0          1.4         0   1       1           8   \n",
       "998           1533     1          0.5         1   0       0          50   \n",
       "999           1270     1          0.5         0   4       1          35   \n",
       "\n",
       "     m_dep  mobile_wt  n_cores  pc  px_height  px_width   ram  sc_h    sc_w  \\\n",
       "0      0.1        193        3  16        226      1412  3476    12   7.000   \n",
       "1      0.8        191        5  12        746       857  3895     6   5.316   \n",
       "2      0.9        186        3   4       1270      1366  2396    17  10.000   \n",
       "3      0.5         96        8  20        295      1752  3893    10   5.316   \n",
       "4      0.5        108        6  18        749       810  1773    15   8.000   \n",
       "..     ...        ...      ...  ..        ...       ...   ...   ...     ...   \n",
       "995    0.5        170        7  17        644       913  2121    14   8.000   \n",
       "996    0.9        186        4   2       1152      1632  1933     8   1.000   \n",
       "997    0.5         80        1  12        477       825  1223     5   5.316   \n",
       "998    0.4        171        2  12         38       832  2509    15  11.000   \n",
       "999    0.1        140        6  19        457       608  2828     9   2.000   \n",
       "\n",
       "     talk_time  three_g  touch_screen  wifi  \n",
       "0            2        0             1     0  \n",
       "1            7        1             0     0  \n",
       "2           10        0             1     1  \n",
       "3            7        1             1     0  \n",
       "4            7        1             0     1  \n",
       "..         ...      ...           ...   ...  \n",
       "995         15        1             1     0  \n",
       "996         19        0             1     1  \n",
       "997         14        1             0     0  \n",
       "998          6        0             1     0  \n",
       "999          3        1             0     1  \n",
       "\n",
       "[1000 rows x 20 columns]"
      ]
     },
     "execution_count": 25,
     "metadata": {},
     "output_type": "execute_result"
    }
   ],
   "source": [
    "df_test.drop('id', axis=1)"
   ]
  },
  {
   "cell_type": "code",
   "execution_count": 26,
   "id": "84378f9d",
   "metadata": {
    "execution": {
     "iopub.execute_input": "2024-04-19T07:17:54.335722Z",
     "iopub.status.busy": "2024-04-19T07:17:54.335274Z",
     "iopub.status.idle": "2024-04-19T07:17:54.346818Z",
     "shell.execute_reply": "2024-04-19T07:17:54.345476Z"
    },
    "papermill": {
     "duration": 0.035782,
     "end_time": "2024-04-19T07:17:54.349460",
     "exception": false,
     "start_time": "2024-04-19T07:17:54.313678",
     "status": "completed"
    },
    "tags": []
   },
   "outputs": [
    {
     "data": {
      "text/plain": [
       "id                 0\n",
       "battery_power      0\n",
       "blue             484\n",
       "clock_speed        0\n",
       "dual_sim         483\n",
       "fc               210\n",
       "four_g           513\n",
       "int_memory         0\n",
       "m_dep              0\n",
       "mobile_wt          0\n",
       "n_cores            0\n",
       "pc                40\n",
       "px_height          2\n",
       "px_width           0\n",
       "ram                0\n",
       "sc_h               0\n",
       "sc_w               0\n",
       "talk_time          0\n",
       "three_g          244\n",
       "touch_screen     500\n",
       "wifi             493\n",
       "dtype: int64"
      ]
     },
     "execution_count": 26,
     "metadata": {},
     "output_type": "execute_result"
    }
   ],
   "source": [
    "(df_test == 0).sum()"
   ]
  },
  {
   "cell_type": "code",
   "execution_count": null,
   "id": "8ff75362",
   "metadata": {
    "papermill": {
     "duration": 0.020525,
     "end_time": "2024-04-19T07:17:54.390624",
     "exception": false,
     "start_time": "2024-04-19T07:17:54.370099",
     "status": "completed"
    },
    "tags": []
   },
   "outputs": [],
   "source": []
  },
  {
   "cell_type": "markdown",
   "id": "23e30e95",
   "metadata": {
    "papermill": {
     "duration": 0.01998,
     "end_time": "2024-04-19T07:17:54.431443",
     "exception": false,
     "start_time": "2024-04-19T07:17:54.411463",
     "status": "completed"
    },
    "tags": []
   },
   "source": [
    "## Model Building"
   ]
  },
  {
   "cell_type": "code",
   "execution_count": 27,
   "id": "386612e9",
   "metadata": {
    "execution": {
     "iopub.execute_input": "2024-04-19T07:17:54.475772Z",
     "iopub.status.busy": "2024-04-19T07:17:54.475318Z",
     "iopub.status.idle": "2024-04-19T07:17:54.746293Z",
     "shell.execute_reply": "2024-04-19T07:17:54.744914Z"
    },
    "papermill": {
     "duration": 0.2964,
     "end_time": "2024-04-19T07:17:54.749172",
     "exception": false,
     "start_time": "2024-04-19T07:17:54.452772",
     "status": "completed"
    },
    "tags": []
   },
   "outputs": [],
   "source": [
    "from sklearn.ensemble import RandomForestClassifier\n",
    "rfc = RandomForestClassifier(criterion='gini', max_features=None, bootstrap=True, random_state=0, max_depth= 14,\n",
    "                           min_samples_leaf= 1,\n",
    "                           min_samples_split= 2,\n",
    "                           n_estimators= 120)"
   ]
  },
  {
   "cell_type": "code",
   "execution_count": 28,
   "id": "02f59e32",
   "metadata": {
    "execution": {
     "iopub.execute_input": "2024-04-19T07:17:54.794358Z",
     "iopub.status.busy": "2024-04-19T07:17:54.793873Z",
     "iopub.status.idle": "2024-04-19T07:17:56.227830Z",
     "shell.execute_reply": "2024-04-19T07:17:56.226496Z"
    },
    "papermill": {
     "duration": 1.460137,
     "end_time": "2024-04-19T07:17:56.230708",
     "exception": false,
     "start_time": "2024-04-19T07:17:54.770571",
     "status": "completed"
    },
    "tags": []
   },
   "outputs": [],
   "source": [
    "rfc.fit(x_train,y_train)\n",
    "y_pred_rfc = rfc.predict(x_valid)"
   ]
  },
  {
   "cell_type": "markdown",
   "id": "0e400d1a",
   "metadata": {
    "papermill": {
     "duration": 0.021463,
     "end_time": "2024-04-19T07:17:56.273309",
     "exception": false,
     "start_time": "2024-04-19T07:17:56.251846",
     "status": "completed"
    },
    "tags": []
   },
   "source": [
    "## Model Evaluation"
   ]
  },
  {
   "cell_type": "code",
   "execution_count": 29,
   "id": "65c8b217",
   "metadata": {
    "execution": {
     "iopub.execute_input": "2024-04-19T07:17:56.317316Z",
     "iopub.status.busy": "2024-04-19T07:17:56.316708Z",
     "iopub.status.idle": "2024-04-19T07:17:56.324769Z",
     "shell.execute_reply": "2024-04-19T07:17:56.323418Z"
    },
    "papermill": {
     "duration": 0.033617,
     "end_time": "2024-04-19T07:17:56.327673",
     "exception": false,
     "start_time": "2024-04-19T07:17:56.294056",
     "status": "completed"
    },
    "tags": []
   },
   "outputs": [
    {
     "name": "stdout",
     "output_type": "stream",
     "text": [
      "Random Forest Classifier Accuracy Score:  0.9125\n"
     ]
    }
   ],
   "source": [
    "from sklearn.metrics import classification_report, confusion_matrix, accuracy_score\n",
    "print('Random Forest Classifier Accuracy Score: ',accuracy_score(y_valid,y_pred_rfc))\n"
   ]
  },
  {
   "cell_type": "code",
   "execution_count": 30,
   "id": "e64d63e9",
   "metadata": {
    "execution": {
     "iopub.execute_input": "2024-04-19T07:17:56.372462Z",
     "iopub.status.busy": "2024-04-19T07:17:56.371983Z",
     "iopub.status.idle": "2024-04-19T07:17:56.662210Z",
     "shell.execute_reply": "2024-04-19T07:17:56.660753Z"
    },
    "papermill": {
     "duration": 0.316726,
     "end_time": "2024-04-19T07:17:56.665367",
     "exception": false,
     "start_time": "2024-04-19T07:17:56.348641",
     "status": "completed"
    },
    "tags": []
   },
   "outputs": [
    {
     "name": "stdout",
     "output_type": "stream",
     "text": [
      "              precision    recall  f1-score   support\n",
      "\n",
      "           0       0.98      0.94      0.96       109\n",
      "           1       0.88      0.96      0.91        89\n",
      "           2       0.88      0.87      0.88       106\n",
      "           3       0.91      0.90      0.90        96\n",
      "\n",
      "    accuracy                           0.91       400\n",
      "   macro avg       0.91      0.91      0.91       400\n",
      "weighted avg       0.91      0.91      0.91       400\n",
      "\n"
     ]
    },
    {
     "data": {
      "image/png": "[encoded data removed]",
      "text/plain": [
       "<Figure size 500x500 with 1 Axes>"
      ]
     },
     "metadata": {},
     "output_type": "display_data"
    }
   ],
   "source": [
    "cm_rfc = confusion_matrix(y_valid, y_pred_rfc)\n",
    "print(classification_report(y_valid, y_pred_rfc))\n",
    "sns.heatmap(cm_rfc, annot=True, fmt='g', cbar=False, cmap='BuPu')\n",
    "plt.xlabel('Predicted Values')\n",
    "plt.ylabel('Actual Values')\n",
    "plt.title('confusion matrix')\n",
    "plt.show()"
   ]
  },
  {
   "cell_type": "code",
   "execution_count": 31,
   "id": "0019ec89",
   "metadata": {
    "execution": {
     "iopub.execute_input": "2024-04-19T07:17:56.711684Z",
     "iopub.status.busy": "2024-04-19T07:17:56.711224Z",
     "iopub.status.idle": "2024-04-19T07:17:56.716736Z",
     "shell.execute_reply": "2024-04-19T07:17:56.715713Z"
    },
    "papermill": {
     "duration": 0.031244,
     "end_time": "2024-04-19T07:17:56.719298",
     "exception": false,
     "start_time": "2024-04-19T07:17:56.688054",
     "status": "completed"
    },
    "tags": []
   },
   "outputs": [],
   "source": [
    "from sklearn.preprocessing import StandardScaler\n",
    "# scaler = StandardScaler()\n",
    "# X_train_scaled = scaler.fit_transform(x_train)\n",
    "# X_test_scaled = scaler.transform(x_valid)\n",
    "# # Convert training and test sets from numpy array to pandas dataframes\n",
    "# x_train = pd.DataFrame(X_train_scaled, columns=x_train.columns)\n",
    "# x_valid = pd.DataFrame(X_test_scaled, columns=x_valid.columns)"
   ]
  },
  {
   "cell_type": "code",
   "execution_count": 32,
   "id": "885e39e0",
   "metadata": {
    "execution": {
     "iopub.execute_input": "2024-04-19T07:17:56.765144Z",
     "iopub.status.busy": "2024-04-19T07:17:56.764698Z",
     "iopub.status.idle": "2024-04-19T07:17:56.770351Z",
     "shell.execute_reply": "2024-04-19T07:17:56.768970Z"
    },
    "papermill": {
     "duration": 0.032618,
     "end_time": "2024-04-19T07:17:56.773497",
     "exception": false,
     "start_time": "2024-04-19T07:17:56.740879",
     "status": "completed"
    },
    "tags": []
   },
   "outputs": [],
   "source": [
    "from sklearn.svm import SVC\n",
    "svm = SVC(kernel='linear', probability=True, random_state=0)\n"
   ]
  },
  {
   "cell_type": "code",
   "execution_count": 33,
   "id": "be56489a",
   "metadata": {
    "execution": {
     "iopub.execute_input": "2024-04-19T07:17:56.818695Z",
     "iopub.status.busy": "2024-04-19T07:17:56.818154Z",
     "iopub.status.idle": "2024-04-19T07:19:27.038662Z",
     "shell.execute_reply": "2024-04-19T07:19:27.036919Z"
    },
    "papermill": {
     "duration": 90.246693,
     "end_time": "2024-04-19T07:19:27.041802",
     "exception": false,
     "start_time": "2024-04-19T07:17:56.795109",
     "status": "completed"
    },
    "tags": []
   },
   "outputs": [],
   "source": [
    "svm.fit(x_train,y_train)\n",
    "y_pred_svm = svm.predict(x_valid)"
   ]
  },
  {
   "cell_type": "code",
   "execution_count": 34,
   "id": "3ddaa9fc",
   "metadata": {
    "execution": {
     "iopub.execute_input": "2024-04-19T07:19:27.091120Z",
     "iopub.status.busy": "2024-04-19T07:19:27.090680Z",
     "iopub.status.idle": "2024-04-19T07:19:27.440094Z",
     "shell.execute_reply": "2024-04-19T07:19:27.438794Z"
    },
    "papermill": {
     "duration": 0.378494,
     "end_time": "2024-04-19T07:19:27.443475",
     "exception": false,
     "start_time": "2024-04-19T07:19:27.064981",
     "status": "completed"
    },
    "tags": []
   },
   "outputs": [
    {
     "name": "stdout",
     "output_type": "stream",
     "text": [
      "SVM Accuracy Score:  0.9875\n",
      "              precision    recall  f1-score   support\n",
      "\n",
      "           0       1.00      0.99      1.00       109\n",
      "           1       0.99      0.99      0.99        89\n",
      "           2       0.99      0.97      0.98       106\n",
      "           3       0.97      1.00      0.98        96\n",
      "\n",
      "    accuracy                           0.99       400\n",
      "   macro avg       0.99      0.99      0.99       400\n",
      "weighted avg       0.99      0.99      0.99       400\n",
      "\n"
     ]
    },
    {
     "data": {
      "image/png": "[encoded data removed]",
      "text/plain": [
       "<Figure size 500x500 with 1 Axes>"
      ]
     },
     "metadata": {},
     "output_type": "display_data"
    }
   ],
   "source": [
    "print('SVM Accuracy Score: ',accuracy_score(y_valid,y_pred_svm))\n",
    "cm_svm = confusion_matrix(y_valid, y_pred_svm)\n",
    "print(classification_report(y_valid, y_pred_svm))\n",
    "sns.heatmap(cm_svm, annot=True, fmt='g', cbar=False, cmap='BuPu')\n",
    "plt.xlabel('Predicted Values')\n",
    "plt.ylabel('Actual Values')\n",
    "plt.title('confusion matrix')\n",
    "plt.show()"
   ]
  },
  {
   "cell_type": "code",
   "execution_count": null,
   "id": "0fd4177f",
   "metadata": {
    "papermill": {
     "duration": 0.021764,
     "end_time": "2024-04-19T07:19:27.488303",
     "exception": false,
     "start_time": "2024-04-19T07:19:27.466539",
     "status": "completed"
    },
    "tags": []
   },
   "outputs": [],
   "source": []
  },
  {
   "cell_type": "code",
   "execution_count": 35,
   "id": "207409bb",
   "metadata": {
    "execution": {
     "iopub.execute_input": "2024-04-19T07:19:27.538983Z",
     "iopub.status.busy": "2024-04-19T07:19:27.538560Z",
     "iopub.status.idle": "2024-04-19T07:22:31.319458Z",
     "shell.execute_reply": "2024-04-19T07:22:31.318241Z"
    },
    "papermill": {
     "duration": 183.831481,
     "end_time": "2024-04-19T07:22:31.343312",
     "exception": false,
     "start_time": "2024-04-19T07:19:27.511831",
     "status": "completed"
    },
    "tags": []
   },
   "outputs": [
    {
     "data": {
      "text/plain": [
       "0      3\n",
       "1      3\n",
       "2      2\n",
       "3      3\n",
       "4      1\n",
       "      ..\n",
       "995    2\n",
       "996    1\n",
       "997    0\n",
       "998    2\n",
       "999    2\n",
       "Name: price_range_pred, Length: 1000, dtype: int64"
      ]
     },
     "execution_count": 35,
     "metadata": {},
     "output_type": "execute_result"
    }
   ],
   "source": [
    "# Define the features (X) and the output labels (y) of the given dataset:\n",
    "X = df.drop('price_range', axis=1)\n",
    "y = df['price_range'] \n",
    "\n",
    "from sklearn.pipeline import Pipeline\n",
    "\n",
    "# Create a pipeline to scale the data and train an SVM classifier using obtained optimal hyperparameters\n",
    "svm_pipeline = Pipeline([\n",
    "                         ('svm', SVC(probability=True, C=50, kernel='linear', random_state=0)) \n",
    "                        ])\n",
    "#                          ('scaler', StandardScaler()), \n",
    "\n",
    "# Train the SVM classifier on the whole dataset\n",
    "svm_pipeline.fit(X, y)\n",
    "\n",
    "# Remove id column\n",
    "df_test.drop('id', axis=1, inplace=True)\n",
    "\n",
    "# Predict samples class\n",
    "df_test['price_range_pred'] = svm_pipeline.predict(df_test)\n",
    "df_test['price_range_pred']"
   ]
  },
  {
   "cell_type": "code",
   "execution_count": null,
   "id": "355ddfcd",
   "metadata": {
    "papermill": {
     "duration": 0.022626,
     "end_time": "2024-04-19T07:22:31.387853",
     "exception": false,
     "start_time": "2024-04-19T07:22:31.365227",
     "status": "completed"
    },
    "tags": []
   },
   "outputs": [],
   "source": []
  }
 ],
 "metadata": {
  "kaggle": {
   "accelerator": "none",
   "dataSources": [
    {
     "datasetId": 4793453,
     "sourceId": 8113903,
     "sourceType": "datasetVersion"
    }
   ],
   "dockerImageVersionId": 30684,
   "isGpuEnabled": false,
   "isInternetEnabled": true,
   "language": "python",
   "sourceType": "notebook"
  },
  "kernelspec": {
   "display_name": "Python 3",
   "language": "python",
   "name": "python3"
  },
  "language_info": {
   "codemirror_mode": {
    "name": "ipython",
    "version": 3
   },
   "file_extension": ".py",
   "mimetype": "text/x-python",
   "name": "python",
   "nbconvert_exporter": "python",
   "pygments_lexer": "ipython3",
   "version": "3.10.13"
  },
  "papermill": {
   "default_parameters": {},
   "duration": 288.703435,
   "end_time": "2024-04-19T07:22:32.133672",
   "environment_variables": {},
   "exception": null,
   "input_path": "__notebook__.ipynb",
   "output_path": "__notebook__.ipynb",
   "parameters": {},
   "start_time": "2024-04-19T07:17:43.430237",
   "version": "2.5.0"
  }
 },
 "nbformat": 4,
 "nbformat_minor": 5
}
